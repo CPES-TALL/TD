{
 "cells": [
  {
   "cell_type": "markdown",
   "id": "f9ec1450-cf80-4cfa-8d3e-e46593552719",
   "metadata": {},
   "source": [
    "### Exercices\n",
    "\n",
    "*Vous ne pouvez pas utiliser la fonction `Counter` de la librairie `collections`*\n",
    "\n",
    "**1/** Créer une fonction `compte_mots` qui prend en paramètre une liste de mot et retourne les fréquences d'apparition dans un dictionnaire des mots.\n",
    "\n",
    "**2/** Créer une fonction `sauvegarde` qui prend en paramètre deux listes, écrit dans deux fichiers distincts, `mots_peu_frequents.txt` et `mots_très_frequents.txt` et ne retourne rien.\n",
    "\n",
    "**3/** Créer une fonction `main` qui prend en paramètre un chemin de fichier (au choix dans corpus/roman_choisi.txt), deux nombres N, et M (valeur par défaut=10), créé une liste de tous les mots du fichier txt, appelle la fonction `compte_mots` avec cette liste créée en argument, puis récupère le dictionnaire de sortie et crée deux listes, une première avec les N mots les plus fréquents, une seconde avec les M les moins fréquents. Enfin elle appelle la fonction `sauvegarde` et retourne les deux listes\n",
    "\n"
   ]
  },
  {
   "cell_type": "code",
   "execution_count": 16,
   "id": "12787000-ea20-4992-b609-49b5663af27d",
   "metadata": {},
   "outputs": [],
   "source": [
    "mes_mots = ['liste', 'de', 'de', 'mots']"
   ]
  },
  {
   "cell_type": "code",
   "execution_count": 55,
   "id": "480a0d79-6d9a-4128-a79d-af1321a45170",
   "metadata": {},
   "outputs": [],
   "source": [
    "def compte_mots(liste_mots):\n",
    "    dico_mots = {}\n",
    "    for mot in liste_mots:\n",
    "        if mot in dico_mots:\n",
    "            dico_mots[mot]+=1\n",
    "        else:\n",
    "            dico_mots[mot]=1\n",
    "    return dico_mots"
   ]
  },
  {
   "cell_type": "code",
   "execution_count": 12,
   "id": "a73239eb-0321-4638-b057-3203a9309799",
   "metadata": {},
   "outputs": [
    {
     "data": {
      "text/plain": [
       "{'de', 'liste', 'mots'}"
      ]
     },
     "execution_count": 12,
     "metadata": {},
     "output_type": "execute_result"
    }
   ],
   "source": [
    "set(mes_mots)"
   ]
  },
  {
   "cell_type": "code",
   "execution_count": 7,
   "id": "eb1b7b4e-83d1-44c1-b917-6a9fa46ae1aa",
   "metadata": {},
   "outputs": [],
   "source": [
    "mon_dico = compte_mots(mes_mots)"
   ]
  },
  {
   "cell_type": "code",
   "execution_count": 42,
   "id": "537ecbf1-95e6-4e23-aded-94be7939fb45",
   "metadata": {},
   "outputs": [
    {
     "data": {
      "text/plain": [
       "{'liste': 1, 'de': 2, 'mots': 1}"
      ]
     },
     "execution_count": 42,
     "metadata": {},
     "output_type": "execute_result"
    }
   ],
   "source": [
    "mon_dicoz"
   ]
  },
  {
   "cell_type": "code",
   "execution_count": 56,
   "id": "04b2328a-1b19-4ce4-9f1e-d71bb5b5f94c",
   "metadata": {},
   "outputs": [],
   "source": [
    "def sauvegarde(list_1, list_2):\n",
    "    with open('mots.txt', 'w', encoding='utf-8') as f1:\n",
    "        for mot in list_1:\n",
    "            f1.write(f'{mot}\\n')\n",
    "    with open('mots_peu_frequents.txt', 'w', encoding='utf-8') as f2:\n",
    "        for mot in list_2:\n",
    "            f2.write(f'{mot}\\n')"
   ]
  },
  {
   "cell_type": "code",
   "execution_count": 29,
   "id": "c1df0f12-d916-4fed-9a8f-0d747cc40b94",
   "metadata": {},
   "outputs": [],
   "source": [
    "sauvegarde(mes_mots, mes_mots+['autres', 'mots'])"
   ]
  },
  {
   "cell_type": "code",
   "execution_count": null,
   "id": "19afb506-5f65-435f-bba5-a61c7562670f",
   "metadata": {},
   "outputs": [],
   "source": []
  },
  {
   "cell_type": "code",
   "execution_count": 30,
   "id": "02b14f6f-92d9-4079-b003-b35cbbe7c705",
   "metadata": {},
   "outputs": [],
   "source": [
    "chemin_fichier = \"../data/txt/1930_Colette_Sido.txt\""
   ]
  },
  {
   "cell_type": "code",
   "execution_count": null,
   "id": "df6cf46f-26de-4f2f-9aba-b9db292b7385",
   "metadata": {},
   "outputs": [],
   "source": []
  },
  {
   "cell_type": "code",
   "execution_count": null,
   "id": "b978948a-e887-4e2a-98e4-4c41f111738d",
   "metadata": {},
   "outputs": [],
   "source": [
    "def main(chemin_fichier, N=10, M=10):\n",
    "    with open(chemin_fichier, encoding='utf-8') as fichier:\n",
    "        text = fichier.read()\n",
    "        liste_mot = text.lower().split()\n",
    "\n",
    "    dico_mot = compte_mots(liste_mot)\n",
    "    mot_frequences = sorted(dico_mot.items(), key = occurences, reverse=True)\n",
    "    mots_peu_frequents = mot_frequences[:N]\n",
    "    mots_tres_frequents = mot_frequences[-M:]\n",
    "    sauvegarde(mots_peu_frequents, mots_tres_frequents)\n",
    "\n",
    "    return mots_peu_frequents, mots_tres_frequents, dico_mot"
   ]
  },
  {
   "cell_type": "code",
   "execution_count": 61,
   "id": "3f71aed3-e910-4947-901e-dcc47aba0efc",
   "metadata": {
    "scrolled": true
   },
   "outputs": [],
   "source": [
    "mots_peu, mots_tres, dico = main(chemin_fichier)"
   ]
  },
  {
   "cell_type": "code",
   "execution_count": null,
   "id": "d7a78b27-d412-4492-babf-342a667fbc59",
   "metadata": {},
   "outputs": [],
   "source": []
  }
 ],
 "metadata": {
  "kernelspec": {
   "display_name": "Python 3 (ipykernel)",
   "language": "python",
   "name": "python3"
  },
  "language_info": {
   "codemirror_mode": {
    "name": "ipython",
    "version": 3
   },
   "file_extension": ".py",
   "mimetype": "text/x-python",
   "name": "python",
   "nbconvert_exporter": "python",
   "pygments_lexer": "ipython3",
   "version": "3.12.3"
  }
 },
 "nbformat": 4,
 "nbformat_minor": 5
}
