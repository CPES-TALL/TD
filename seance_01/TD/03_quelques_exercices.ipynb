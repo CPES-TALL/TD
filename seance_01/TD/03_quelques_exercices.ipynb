{
 "cells": [
  {
   "cell_type": "markdown",
   "id": "6118f794-eead-4943-bed2-a7058033f0f1",
   "metadata": {},
   "source": [
    "# Exercices \n",
    "\n",
    "**Reminder**\n",
    "\n",
    "* Chacune de vos fonctions doit être testée. \n",
    "\n",
    "* Chaque cellule doit compiler. \n",
    "\n",
    "* Si le résultat n'est pas celui voulu, expliquer ce qui semble ne pas aller dans votre fonction en commentaires. \n",
    "\n",
    "### Ecrire une fonction qui prend une liste de mots et retourne le plus long. Gérer le cas où la liste ne contient pas que des strings."
   ]
  },
  {
   "cell_type": "code",
   "execution_count": 3,
   "id": "4cd51b06-e59b-4b44-88dd-e8bfa43e377e",
   "metadata": {},
   "outputs": [],
   "source": [
    "liste = ['liste', 'de', 'mots', 'longs', 'et', 'moinslongue', 10, 16]"
   ]
  },
  {
   "cell_type": "code",
   "execution_count": 1,
   "id": "b14b7e5e-29a1-4300-a764-3728cd9f35ce",
   "metadata": {},
   "outputs": [],
   "source": [
    "def plus_long_mot(liste_mots):\n",
    "    list_corrigee = []\n",
    "    for mot in liste_mots:\n",
    "        if type(mot)==str:\n",
    "            list_corrigee.append(mot)\n",
    "        maximum = max(list_corrigee, key=len)\n",
    "    return maximum"
   ]
  },
  {
   "cell_type": "code",
   "execution_count": 5,
   "id": "6d0769d3-c9a6-480f-a570-4b7949168e7d",
   "metadata": {},
   "outputs": [],
   "source": [
    "def plus_long(liste_mots):\n",
    "    mot_long = ''\n",
    "    for mot in liste_mots:\n",
    "        if len(str(mot)) > len(mot_long):\n",
    "            mot_long = mot\n",
    "    return mot_long"
   ]
  },
  {
   "cell_type": "code",
   "execution_count": 6,
   "id": "4abb7f59-3dd9-4b5f-ab60-e955ac50520e",
   "metadata": {},
   "outputs": [
    {
     "data": {
      "text/plain": [
       "'moinslongue'"
      ]
     },
     "execution_count": 6,
     "metadata": {},
     "output_type": "execute_result"
    }
   ],
   "source": [
    "plus_long(liste)"
   ]
  },
  {
   "cell_type": "markdown",
   "id": "42d18c3d-c7d7-41f2-99ed-4f6295ddc80f",
   "metadata": {},
   "source": [
    "### 2. Ecrire une fonction qui ajoute une string au milieu d'une autre string.\n"
   ]
  },
  {
   "cell_type": "code",
   "execution_count": null,
   "id": "3ec2fef0-4508-40e2-9bbc-e26a149affb5",
   "metadata": {},
   "outputs": [],
   "source": [
    "def ajouter_au_milieu(mot, ajout):\n"
   ]
  },
  {
   "cell_type": "code",
   "execution_count": 4,
   "id": "5690e60f-8b37-441b-9108-03e9528a8f1d",
   "metadata": {},
   "outputs": [
    {
     "name": "stdout",
     "output_type": "stream",
     "text": [
      "11\n",
      "5\n"
     ]
    },
    {
     "data": {
      "text/plain": [
       "'moins longue'"
      ]
     },
     "execution_count": 4,
     "metadata": {},
     "output_type": "execute_result"
    }
   ],
   "source": [
    "ajouter_au_milieu('moinslongue', ' ')"
   ]
  },
  {
   "cell_type": "markdown",
   "id": "aa29d27b-4a87-4d89-b959-8eded4180b83",
   "metadata": {},
   "source": [
    "### 3. Ecrire une fonction qui transforme en majuscule la première et la dernière lettre de toutes les string d'une liste.\n"
   ]
  },
  {
   "cell_type": "code",
   "execution_count": 24,
   "id": "d1a7005b-6681-48d8-9bc9-bb53929a5c96",
   "metadata": {},
   "outputs": [],
   "source": [
    "def majuscules_premiere_derniere(liste_mot):\n",
    "    "
   ]
  },
  {
   "cell_type": "code",
   "execution_count": 25,
   "id": "efde91c0-11f9-43be-914b-848c928646a3",
   "metadata": {},
   "outputs": [
    {
     "name": "stdout",
     "output_type": "stream",
     "text": [
      "['ExemplE', 'PythoN', 'ProgrammatioN']\n"
     ]
    }
   ],
   "source": [
    "# Test\n",
    "liste_mots = [\"exemple\", \"python\", \"programmation\"]\n",
    "resultat = majuscules_premiere_derniere(liste_mots)\n",
    "print(resultat)"
   ]
  },
  {
   "cell_type": "markdown",
   "id": "99ffe52b-76a1-47f3-8e47-87784007083f",
   "metadata": {},
   "source": [
    "### 4. Ecrire une fonction qui trouve les 3 plus hautes valeurs d'un dictionnaire.\n"
   ]
  },
  {
   "cell_type": "code",
   "execution_count": 36,
   "id": "49028e69-3a0a-4aae-a2bd-241239f2f3de",
   "metadata": {},
   "outputs": [],
   "source": [
    "def trois_plus_hautes_valeurs(dictionnaire):\n",
    "    valeurs = list(dictionnaire.values())\n",
    "    valeurs.sort(reverse=True)\n",
    "    return valeurs[:3]"
   ]
  },
  {
   "cell_type": "code",
   "execution_count": 34,
   "id": "d74a7c9f-872f-4301-89db-067c0b377e44",
   "metadata": {},
   "outputs": [],
   "source": [
    "def trois_plus_hautes_valeurs(dico):\n",
    "    print(dico.items())\n",
    "    dico_tri = sorted(dico.items(), key=lambda x:x[1], reverse=True)\n",
    "    print(dico_tri)\n",
    "    trois_plus_hautes = [item[1] for item in dico_tri[:3]]\n",
    "\n",
    "    return trois_plus_hautes"
   ]
  },
  {
   "cell_type": "code",
   "execution_count": 37,
   "id": "9d23d262-d292-4cc9-829e-a25d00a74a7f",
   "metadata": {},
   "outputs": [
    {
     "name": "stdout",
     "output_type": "stream",
     "text": [
      "[15, 10, 8]\n"
     ]
    }
   ],
   "source": [
    "# Test\n",
    "mon_dictionnaire = {'a': 10, 'b': 5, 'c': 8, 'd': 15}\n",
    "resultat = trois_plus_hautes_valeurs(mon_dictionnaire)\n",
    "print(resultat)"
   ]
  },
  {
   "cell_type": "markdown",
   "id": "46744ef4-48b7-4a04-a199-d2b1a57daf12",
   "metadata": {},
   "source": [
    "### 5. Ecrire une fonction qui ajoute un élément à un tuple. Idem qui enlève.\n"
   ]
  },
  {
   "cell_type": "code",
   "execution_count": 44,
   "id": "80920a85-8d79-41c6-a3aa-e84aa82f5dc7",
   "metadata": {},
   "outputs": [],
   "source": [
    "def ajouter_element_tuple(tuple_courant, nouvel_elem):\n",
    "    return tuple_courant+(nouvel_elem,)"
   ]
  },
  {
   "cell_type": "code",
   "execution_count": 58,
   "id": "732a9576-8b8e-4aa2-aca6-a795cf3d4136",
   "metadata": {},
   "outputs": [],
   "source": [
    "def ajouter_element_tuple(tuple_courant, nouvel_elem):\n",
    "    tmp = list(tuple_courant)\n",
    "    tmp.append(nouvel_elem)\n",
    "    return tuple(tmp)"
   ]
  },
  {
   "cell_type": "code",
   "execution_count": 46,
   "id": "44d18d36-deba-4529-b499-ca0365333cac",
   "metadata": {},
   "outputs": [],
   "source": [
    "def enlever_element_tuple(tup, element):\n",
    "    result = []\n",
    "    for elem in tup:\n",
    "        if elem != element:\n",
    "            result.append(elem)\n",
    "    return tuple(result)"
   ]
  },
  {
   "cell_type": "code",
   "execution_count": null,
   "id": "77fb5146-9f7a-4022-9012-1fb0b733a49d",
   "metadata": {},
   "outputs": [],
   "source": []
  },
  {
   "cell_type": "code",
   "execution_count": 57,
   "id": "914abfef-9133-418e-889e-26b365210b16",
   "metadata": {},
   "outputs": [
    {
     "name": "stdout",
     "output_type": "stream",
     "text": [
      "(1, 2, 3, 4, 2, 2)\n",
      "(1, 3, 4)\n"
     ]
    }
   ],
   "source": [
    "# Test\n",
    "tup = (1, 2, 3, 4, 2)\n",
    "nouvel_element = 2\n",
    "result_ajout = ajouter_element_tuple(tup, nouvel_element)\n",
    "result_enlever = enlever_element_tuple(tup, nouvel_element)\n",
    "\n",
    "print(result_ajout)  # Output: (1, 2, 3, 4, 2, 2)\n",
    "print(result_enlever)  # Output: (1, 3, 4)\n"
   ]
  },
  {
   "cell_type": "markdown",
   "id": "8e7c834d-7b48-4ab4-a0eb-a432f00042e7",
   "metadata": {},
   "source": [
    "### 6. Ecrire une fonction qui remplace la dernière valeur des tuples d'une liste.\n",
    "\tExemple :\n",
    "\t\tentree: [(10, 20, 40), (40, 50, 60), (70, 80, 90)]\n",
    "\t\tsortie: [(10, 20, 100), (40, 50, 100), (70, 80, 100)]\n"
   ]
  },
  {
   "cell_type": "code",
   "execution_count": 61,
   "id": "c7b3c702-ec2e-4df3-bde3-e1d71bf05842",
   "metadata": {},
   "outputs": [],
   "source": [
    "def remplacer_derniere_valeur(liste_tuples, nouvelle_valeur):\n",
    "    result = []\n",
    "    for tup in liste_tuples:\n",
    "        modified_tuple = tup[:-1] + (nouvelle_valeur,)\n",
    "        result.append(modified_tuple)\n",
    "    return result"
   ]
  },
  {
   "cell_type": "code",
   "execution_count": 63,
   "id": "338dfff4-f158-4edf-b637-9c228561b8c4",
   "metadata": {},
   "outputs": [
    {
     "name": "stdout",
     "output_type": "stream",
     "text": [
      "[(10, 20, 18), (40, 50, 18), (70, 80, 18)]\n"
     ]
    }
   ],
   "source": [
    "# Test\n",
    "entree = [(10, 20, 40), (40, 50, 60), (70, 80, 90)]\n",
    "sortie = remplacer_derniere_valeur(entree, 18)\n",
    "print(sortie)"
   ]
  },
  {
   "cell_type": "markdown",
   "id": "b885c8d6-604f-4a79-a3e7-7326438210e1",
   "metadata": {},
   "source": [
    "### 7. Ecrire une fonction qui lit un csv dont les délimiteurs sont des tabulations (import csv ou pandas).\n"
   ]
  },
  {
   "cell_type": "code",
   "execution_count": 64,
   "id": "3a46dc01-ff19-4d54-8a12-d3dee2a3ba9b",
   "metadata": {},
   "outputs": [],
   "source": [
    "import pandas as pd"
   ]
  },
  {
   "cell_type": "code",
   "execution_count": 70,
   "id": "354c830d-0edc-4570-af03-ba81f29ecff3",
   "metadata": {},
   "outputs": [],
   "source": [
    "def lire_csv(path_tsv):\n",
    "    return pd.read_csv(path_tsv, sep='\\t')"
   ]
  },
  {
   "cell_type": "code",
   "execution_count": 71,
   "id": "1912820e-d74a-4cdf-afb5-1d90452a7c25",
   "metadata": {},
   "outputs": [],
   "source": [
    "tsv = lire_csv(\"/home/crazyjeannot/Documents/cours/2024/Python4DH/data/csv/MIS_4.tsv\")"
   ]
  },
  {
   "cell_type": "code",
   "execution_count": 74,
   "id": "fff37473-2f17-4851-9454-c00aefd715d0",
   "metadata": {},
   "outputs": [],
   "source": [
    "tsv = pd.read_csv(\"/home/crazyjeannot/Documents/cours/2024/Python4DH/data/csv/MIS_4.tsv\", sep='\\t')"
   ]
  },
  {
   "cell_type": "code",
   "execution_count": 75,
   "id": "4222e3c4-8f97-4089-bb98-5ece5e511ebf",
   "metadata": {},
   "outputs": [
    {
     "data": {
      "text/html": [
       "<div>\n",
       "<style scoped>\n",
       "    .dataframe tbody tr th:only-of-type {\n",
       "        vertical-align: middle;\n",
       "    }\n",
       "\n",
       "    .dataframe tbody tr th {\n",
       "        vertical-align: top;\n",
       "    }\n",
       "\n",
       "    .dataframe thead th {\n",
       "        text-align: right;\n",
       "    }\n",
       "</style>\n",
       "<table border=\"1\" class=\"dataframe\">\n",
       "  <thead>\n",
       "    <tr style=\"text-align: right;\">\n",
       "      <th></th>\n",
       "      <th>Groupe labo</th>\n",
       "      <th>Numéro mission</th>\n",
       "      <th>Missionnaire</th>\n",
       "      <th>Date de départ</th>\n",
       "      <th>Ville de départ</th>\n",
       "      <th>Pays de départ</th>\n",
       "      <th>Ville de destination</th>\n",
       "      <th>Pays de destination</th>\n",
       "      <th>Moyens de transport</th>\n",
       "      <th>Nb de pers. dans la voiture</th>\n",
       "      <th>Aller / Retour</th>\n",
       "      <th>Motif du déplacement</th>\n",
       "      <th>Statut agent</th>\n",
       "      <th>Date de retour</th>\n",
       "    </tr>\n",
       "  </thead>\n",
       "  <tbody>\n",
       "    <tr>\n",
       "      <th>0</th>\n",
       "      <td>1198</td>\n",
       "      <td>1436</td>\n",
       "      <td>90407198</td>\n",
       "      <td>09/01/2023</td>\n",
       "      <td>VENISE</td>\n",
       "      <td>Italie</td>\n",
       "      <td>PARIS</td>\n",
       "      <td>France</td>\n",
       "      <td>Avion,Train,Train</td>\n",
       "      <td>NaN</td>\n",
       "      <td>OUI</td>\n",
       "      <td>Autres</td>\n",
       "      <td>NaN</td>\n",
       "      <td>15/01/2023</td>\n",
       "    </tr>\n",
       "    <tr>\n",
       "      <th>1</th>\n",
       "      <td>1198</td>\n",
       "      <td>1435</td>\n",
       "      <td>90406857</td>\n",
       "      <td>11/01/2023</td>\n",
       "      <td>WESTERLO</td>\n",
       "      <td>Belgique</td>\n",
       "      <td>PARIS</td>\n",
       "      <td>France</td>\n",
       "      <td>Train,Train</td>\n",
       "      <td>NaN</td>\n",
       "      <td>OUI</td>\n",
       "      <td>Autres</td>\n",
       "      <td>NaN</td>\n",
       "      <td>11/01/2023</td>\n",
       "    </tr>\n",
       "    <tr>\n",
       "      <th>2</th>\n",
       "      <td>1198</td>\n",
       "      <td>1434</td>\n",
       "      <td>90406849</td>\n",
       "      <td>31/01/2023</td>\n",
       "      <td>LONDRES - EAST BARNET</td>\n",
       "      <td>Royaume-Uni</td>\n",
       "      <td>PARIS</td>\n",
       "      <td>France</td>\n",
       "      <td>Train</td>\n",
       "      <td>NaN</td>\n",
       "      <td>OUI</td>\n",
       "      <td>Autres</td>\n",
       "      <td>NaN</td>\n",
       "      <td>02/02/2023</td>\n",
       "    </tr>\n",
       "    <tr>\n",
       "      <th>3</th>\n",
       "      <td>1198</td>\n",
       "      <td>1439</td>\n",
       "      <td>14463</td>\n",
       "      <td>02/02/2023</td>\n",
       "      <td>PARIS</td>\n",
       "      <td>France</td>\n",
       "      <td>CAMBRIDGE</td>\n",
       "      <td>Royaume-Uni</td>\n",
       "      <td>Avion,Train</td>\n",
       "      <td>NaN</td>\n",
       "      <td>OUI</td>\n",
       "      <td>Visite, contact pour projet</td>\n",
       "      <td>NaN</td>\n",
       "      <td>19/02/2023</td>\n",
       "    </tr>\n",
       "    <tr>\n",
       "      <th>4</th>\n",
       "      <td>1198</td>\n",
       "      <td>1437</td>\n",
       "      <td>4609</td>\n",
       "      <td>01/03/2023</td>\n",
       "      <td>ST REMY LES CHEVREUSE</td>\n",
       "      <td>France</td>\n",
       "      <td>POTSDAM</td>\n",
       "      <td>Allemagne</td>\n",
       "      <td>Avion,Avion</td>\n",
       "      <td>NaN</td>\n",
       "      <td>OUI</td>\n",
       "      <td>Autres</td>\n",
       "      <td>NaN</td>\n",
       "      <td>03/03/2023</td>\n",
       "    </tr>\n",
       "    <tr>\n",
       "      <th>...</th>\n",
       "      <td>...</td>\n",
       "      <td>...</td>\n",
       "      <td>...</td>\n",
       "      <td>...</td>\n",
       "      <td>...</td>\n",
       "      <td>...</td>\n",
       "      <td>...</td>\n",
       "      <td>...</td>\n",
       "      <td>...</td>\n",
       "      <td>...</td>\n",
       "      <td>...</td>\n",
       "      <td>...</td>\n",
       "      <td>...</td>\n",
       "      <td>...</td>\n",
       "    </tr>\n",
       "    <tr>\n",
       "      <th>73</th>\n",
       "      <td>1198</td>\n",
       "      <td>1486</td>\n",
       "      <td></td>\n",
       "      <td>15/11/2023</td>\n",
       "      <td>Paris</td>\n",
       "      <td>France</td>\n",
       "      <td>Strasbourg</td>\n",
       "      <td>France</td>\n",
       "      <td>Train,Transports en commun</td>\n",
       "      <td>NaN</td>\n",
       "      <td>NON</td>\n",
       "      <td>Colloques, congrès et séminaires</td>\n",
       "      <td>NaN</td>\n",
       "      <td>17/11/2023</td>\n",
       "    </tr>\n",
       "    <tr>\n",
       "      <th>74</th>\n",
       "      <td>1198</td>\n",
       "      <td>1493</td>\n",
       "      <td>14463</td>\n",
       "      <td>06/12/2023</td>\n",
       "      <td>Paris</td>\n",
       "      <td>France</td>\n",
       "      <td>Villejuif</td>\n",
       "      <td>France</td>\n",
       "      <td>Micromobilité (Vélo, trottinette)</td>\n",
       "      <td>NaN</td>\n",
       "      <td>OUI</td>\n",
       "      <td>Colloques, congrès et séminaires</td>\n",
       "      <td>NaN</td>\n",
       "      <td>08/12/2023</td>\n",
       "    </tr>\n",
       "    <tr>\n",
       "      <th>75</th>\n",
       "      <td>1198</td>\n",
       "      <td>1492</td>\n",
       "      <td>197049</td>\n",
       "      <td>06/12/2023</td>\n",
       "      <td>Neuilly-sur-Seine</td>\n",
       "      <td>France</td>\n",
       "      <td>Le Kremlin-Bicetre</td>\n",
       "      <td>France</td>\n",
       "      <td>Micromobilité (Vélo, trottinette)</td>\n",
       "      <td>NaN</td>\n",
       "      <td>OUI</td>\n",
       "      <td>Colloques, congrès et séminaires</td>\n",
       "      <td>NaN</td>\n",
       "      <td>06/12/2023</td>\n",
       "    </tr>\n",
       "    <tr>\n",
       "      <th>76</th>\n",
       "      <td>1198</td>\n",
       "      <td>1492</td>\n",
       "      <td>197049</td>\n",
       "      <td>07/12/2023</td>\n",
       "      <td>Le Kremlin-Bicetre</td>\n",
       "      <td>France</td>\n",
       "      <td>Le Kremlin-Bicetre</td>\n",
       "      <td>France</td>\n",
       "      <td>Micromobilité (Vélo, trottinette)</td>\n",
       "      <td>NaN</td>\n",
       "      <td>OUI</td>\n",
       "      <td>Colloques, congrès et séminaires</td>\n",
       "      <td>NaN</td>\n",
       "      <td>07/12/2023</td>\n",
       "    </tr>\n",
       "    <tr>\n",
       "      <th>77</th>\n",
       "      <td>1198</td>\n",
       "      <td>1492</td>\n",
       "      <td>197049</td>\n",
       "      <td>08/12/2023</td>\n",
       "      <td>Le Kremlin-Bicetre</td>\n",
       "      <td>France</td>\n",
       "      <td>Le Kremlin-Bicetre</td>\n",
       "      <td>France</td>\n",
       "      <td>Micromobilité (Vélo, trottinette)</td>\n",
       "      <td>NaN</td>\n",
       "      <td>OUI</td>\n",
       "      <td>Colloques, congrès et séminaires</td>\n",
       "      <td>NaN</td>\n",
       "      <td>08/12/2023</td>\n",
       "    </tr>\n",
       "  </tbody>\n",
       "</table>\n",
       "<p>78 rows × 14 columns</p>\n",
       "</div>"
      ],
      "text/plain": [
       "    Groupe labo  Numéro mission Missionnaire Date de départ  \\\n",
       "0          1198            1436     90407198     09/01/2023   \n",
       "1          1198            1435     90406857     11/01/2023   \n",
       "2          1198            1434     90406849     31/01/2023   \n",
       "3          1198            1439        14463     02/02/2023   \n",
       "4          1198            1437         4609     01/03/2023   \n",
       "..          ...             ...          ...            ...   \n",
       "73         1198            1486                  15/11/2023   \n",
       "74         1198            1493        14463     06/12/2023   \n",
       "75         1198            1492       197049     06/12/2023   \n",
       "76         1198            1492       197049     07/12/2023   \n",
       "77         1198            1492       197049     08/12/2023   \n",
       "\n",
       "          Ville de départ Pays de départ Ville de destination  \\\n",
       "0                  VENISE         Italie                PARIS   \n",
       "1                WESTERLO       Belgique                PARIS   \n",
       "2   LONDRES - EAST BARNET    Royaume-Uni                PARIS   \n",
       "3                   PARIS         France            CAMBRIDGE   \n",
       "4   ST REMY LES CHEVREUSE         France              POTSDAM   \n",
       "..                    ...            ...                  ...   \n",
       "73                  Paris         France           Strasbourg   \n",
       "74                  Paris         France            Villejuif   \n",
       "75      Neuilly-sur-Seine         France   Le Kremlin-Bicetre   \n",
       "76     Le Kremlin-Bicetre         France   Le Kremlin-Bicetre   \n",
       "77     Le Kremlin-Bicetre         France   Le Kremlin-Bicetre   \n",
       "\n",
       "   Pays de destination                Moyens de transport  \\\n",
       "0               France                  Avion,Train,Train   \n",
       "1               France                        Train,Train   \n",
       "2               France                              Train   \n",
       "3          Royaume-Uni                        Avion,Train   \n",
       "4            Allemagne                        Avion,Avion   \n",
       "..                 ...                                ...   \n",
       "73              France         Train,Transports en commun   \n",
       "74              France  Micromobilité (Vélo, trottinette)   \n",
       "75              France  Micromobilité (Vélo, trottinette)   \n",
       "76              France  Micromobilité (Vélo, trottinette)   \n",
       "77              France  Micromobilité (Vélo, trottinette)   \n",
       "\n",
       "    Nb de pers. dans la voiture Aller / Retour  \\\n",
       "0                           NaN            OUI   \n",
       "1                           NaN            OUI   \n",
       "2                           NaN            OUI   \n",
       "3                           NaN            OUI   \n",
       "4                           NaN            OUI   \n",
       "..                          ...            ...   \n",
       "73                          NaN            NON   \n",
       "74                          NaN            OUI   \n",
       "75                          NaN            OUI   \n",
       "76                          NaN            OUI   \n",
       "77                          NaN            OUI   \n",
       "\n",
       "                Motif du déplacement  Statut agent Date de retour  \n",
       "0                             Autres           NaN     15/01/2023  \n",
       "1                             Autres           NaN     11/01/2023  \n",
       "2                             Autres           NaN     02/02/2023  \n",
       "3        Visite, contact pour projet           NaN     19/02/2023  \n",
       "4                             Autres           NaN     03/03/2023  \n",
       "..                               ...           ...            ...  \n",
       "73  Colloques, congrès et séminaires           NaN     17/11/2023  \n",
       "74  Colloques, congrès et séminaires           NaN     08/12/2023  \n",
       "75  Colloques, congrès et séminaires           NaN     06/12/2023  \n",
       "76  Colloques, congrès et séminaires           NaN     07/12/2023  \n",
       "77  Colloques, congrès et séminaires           NaN     08/12/2023  \n",
       "\n",
       "[78 rows x 14 columns]"
      ]
     },
     "execution_count": 75,
     "metadata": {},
     "output_type": "execute_result"
    }
   ],
   "source": [
    "tsv"
   ]
  },
  {
   "cell_type": "markdown",
   "id": "3fa474ea-090e-4a1f-8dc5-b41e858bf71a",
   "metadata": {},
   "source": [
    "### 8. Ecrire une fonction qui écrit des dictionnaires dans un fichier (json par exemple)\n"
   ]
  },
  {
   "cell_type": "code",
   "execution_count": 77,
   "id": "4ff08eb2-9e02-413a-88e0-2bb594926241",
   "metadata": {},
   "outputs": [],
   "source": [
    "import json"
   ]
  },
  {
   "cell_type": "code",
   "execution_count": 78,
   "id": "52d4939e-0b4d-464f-b71e-9a5a52fefa4a",
   "metadata": {},
   "outputs": [],
   "source": [
    "bureau = {'marque': \"ikeu\", 'matiere': \"bois\", 'type': \"meuble\", 'nom': \"bureau\", 'designeur': \"Fernand\"}\n",
    "def dict_to_json():\n",
    "    with open('document.json', 'w') as json_file:\n",
    "        json.dump(bureau, json_file)"
   ]
  },
  {
   "cell_type": "code",
   "execution_count": 79,
   "id": "3cda0171-81ae-4737-88d9-a4e587592bf4",
   "metadata": {},
   "outputs": [],
   "source": [
    "dict_to_json()"
   ]
  },
  {
   "cell_type": "markdown",
   "id": "a09c16a1-844d-447c-8f3f-bf4f58ebae83",
   "metadata": {},
   "source": [
    "### 9. Ecrire une fonction qui convertit un array en array de float\n"
   ]
  },
  {
   "cell_type": "code",
   "execution_count": 82,
   "id": "8c35a63d-9dfe-4c27-8c80-4089f8e2d31a",
   "metadata": {},
   "outputs": [],
   "source": [
    "import numpy as np"
   ]
  },
  {
   "cell_type": "code",
   "execution_count": 87,
   "id": "c0e2740c-b901-4fae-a674-4daf1300a3c8",
   "metadata": {},
   "outputs": [],
   "source": [
    "integers = np.arange(1, 15)"
   ]
  },
  {
   "cell_type": "code",
   "execution_count": 88,
   "id": "ee01d29b-2a1f-4a4a-9ec9-6759574afa85",
   "metadata": {},
   "outputs": [
    {
     "data": {
      "text/plain": [
       "array([ 1,  2,  3,  4,  5,  6,  7,  8,  9, 10, 11, 12, 13, 14])"
      ]
     },
     "execution_count": 88,
     "metadata": {},
     "output_type": "execute_result"
    }
   ],
   "source": [
    "integers"
   ]
  },
  {
   "cell_type": "code",
   "execution_count": 85,
   "id": "5313da4d-dd18-4e80-9ba5-476229e9968c",
   "metadata": {},
   "outputs": [],
   "source": [
    "def int_to_float(array):\n",
    "    for floating in array:\n",
    "        floating = integers.astype(float)\n",
    "    return floating"
   ]
  },
  {
   "cell_type": "code",
   "execution_count": null,
   "id": "ea3f30a1-e1cc-415f-9313-af48faa9f419",
   "metadata": {},
   "outputs": [],
   "source": []
  },
  {
   "cell_type": "code",
   "execution_count": 86,
   "id": "e962df7e-c63a-42c9-82f6-1259de718d32",
   "metadata": {},
   "outputs": [],
   "source": [
    "array_float = int_to_float(integers)"
   ]
  },
  {
   "cell_type": "code",
   "execution_count": 24,
   "id": "1ee3e147-0884-4ee3-bc0b-ab15e21385e3",
   "metadata": {},
   "outputs": [
    {
     "data": {
      "text/plain": [
       "numpy.ndarray"
      ]
     },
     "execution_count": 24,
     "metadata": {},
     "output_type": "execute_result"
    }
   ],
   "source": [
    "type(array_float)"
   ]
  },
  {
   "cell_type": "code",
   "execution_count": 25,
   "id": "7218dfcd-62fc-4450-af40-f6928e6b915a",
   "metadata": {},
   "outputs": [
    {
     "data": {
      "text/plain": [
       "array([ 1.,  2.,  3.,  4.,  5.,  6.,  7.,  8.,  9., 10., 11., 12., 13.,\n",
       "       14.])"
      ]
     },
     "execution_count": 25,
     "metadata": {},
     "output_type": "execute_result"
    }
   ],
   "source": [
    "array_float"
   ]
  },
  {
   "cell_type": "code",
   "execution_count": null,
   "id": "2eead527-9a3b-4e86-8578-f45241b58ec5",
   "metadata": {},
   "outputs": [],
   "source": []
  },
  {
   "cell_type": "code",
   "execution_count": 92,
   "id": "18b5a215-63bf-4764-a37b-dc6c70e3b0b4",
   "metadata": {},
   "outputs": [],
   "source": [
    "float_table = integers.astype(float)"
   ]
  },
  {
   "cell_type": "code",
   "execution_count": 91,
   "id": "346d0a29-e771-44f1-84fe-7f93f1049110",
   "metadata": {},
   "outputs": [
    {
     "data": {
      "text/plain": [
       "array([ 1.,  2.,  3.,  4.,  5.,  6.,  7.,  8.,  9., 10., 11., 12., 13.,\n",
       "       14.])"
      ]
     },
     "execution_count": 91,
     "metadata": {},
     "output_type": "execute_result"
    }
   ],
   "source": [
    "float_table"
   ]
  },
  {
   "cell_type": "markdown",
   "id": "e99d9c40-8b8b-4d52-b5b1-01ce865c8e6d",
   "metadata": {},
   "source": [
    "### 10. Ecrire une fonction qui enregistre un array dans un fichier texte.\n"
   ]
  },
  {
   "cell_type": "code",
   "execution_count": 93,
   "id": "31ebdc1f-1a23-41f3-a65f-e3b1c322d93c",
   "metadata": {},
   "outputs": [],
   "source": [
    "array = np.array([[8,3,2,4],[5,1,6,0],[9,7,4,1]])"
   ]
  },
  {
   "cell_type": "code",
   "execution_count": 94,
   "id": "da16e182-ab78-488d-b13e-e025a24e75ac",
   "metadata": {},
   "outputs": [],
   "source": [
    "str_array = array.astype(str)"
   ]
  },
  {
   "cell_type": "code",
   "execution_count": 95,
   "id": "20042a13-e763-42a3-a12e-e7f878191a23",
   "metadata": {},
   "outputs": [
    {
     "data": {
      "text/plain": [
       "array([['8', '3', '2', '4'],\n",
       "       ['5', '1', '6', '0'],\n",
       "       ['9', '7', '4', '1']], dtype='<U21')"
      ]
     },
     "execution_count": 95,
     "metadata": {},
     "output_type": "execute_result"
    }
   ],
   "source": [
    "str_array"
   ]
  },
  {
   "cell_type": "code",
   "execution_count": 96,
   "id": "55e4a1fd-b21c-41b3-acfd-b55d17c0d5e1",
   "metadata": {},
   "outputs": [
    {
     "data": {
      "text/plain": [
       "'[[8 3 2 4]\\n [5 1 6 0]\\n [9 7 4 1]]'"
      ]
     },
     "execution_count": 96,
     "metadata": {},
     "output_type": "execute_result"
    }
   ],
   "source": [
    "str(array)"
   ]
  },
  {
   "cell_type": "code",
   "execution_count": 97,
   "id": "91defdde-4797-4056-8f39-63db534a4027",
   "metadata": {},
   "outputs": [],
   "source": [
    "def array_to_txt_and_display(array):\n",
    "    \n",
    "    file = open(\"array_file.txt\", \"w+\") \n",
    "  \n",
    "    content = str(array) \n",
    "    file.write(content) \n",
    "    file.close() \n",
    "    \n",
    "    file = open(\"array_file.txt\", \"r\") \n",
    "    content = file.read() \n",
    "  \n",
    "    print(\"\\nContent in array_file.txt:\\n\", content) \n",
    "    file.close() "
   ]
  },
  {
   "cell_type": "code",
   "execution_count": 98,
   "id": "9d503dfb-ae56-4ae8-87ef-23caa0d32dee",
   "metadata": {},
   "outputs": [
    {
     "name": "stdout",
     "output_type": "stream",
     "text": [
      "\n",
      "Content in array_file.txt:\n",
      " [[8 3 2 4]\n",
      " [5 1 6 0]\n",
      " [9 7 4 1]]\n"
     ]
    }
   ],
   "source": [
    "array_to_txt_and_display(array)"
   ]
  },
  {
   "cell_type": "markdown",
   "id": "2e014338-fab1-4c67-aad7-5101d649ad7e",
   "metadata": {},
   "source": [
    "### 11. Ecrire une fonction qui réalise l'addition matricielle de deux arrays. La multiplication ça se tente ?"
   ]
  },
  {
   "cell_type": "code",
   "execution_count": 101,
   "id": "c3d787ea-9c6b-46a5-a6ec-72ae1086a664",
   "metadata": {},
   "outputs": [],
   "source": [
    "import numpy as np\n",
    "\n",
    "M = np.array([[1, 2], [3, 4]]) \n",
    "N = np.array([[4, 3], [2, 1]]) "
   ]
  },
  {
   "cell_type": "code",
   "execution_count": 99,
   "id": "9e562470-acd6-4537-90db-c4979955c098",
   "metadata": {},
   "outputs": [],
   "source": [
    "def addition_matricielle(a, b):\n",
    "    return np.add(a, b)\n",
    "\n",
    "def multiplication_matricielle(a, b):\n",
    "    return np.dot(a, b)"
   ]
  },
  {
   "cell_type": "code",
   "execution_count": 102,
   "id": "4cfa80e0-05f3-41b7-acdf-2e56fa35d94b",
   "metadata": {},
   "outputs": [
    {
     "data": {
      "text/plain": [
       "array([[5, 5],\n",
       "       [5, 5]])"
      ]
     },
     "execution_count": 102,
     "metadata": {},
     "output_type": "execute_result"
    }
   ],
   "source": [
    "addition_matricielle(M, N)"
   ]
  },
  {
   "cell_type": "code",
   "execution_count": 103,
   "id": "de22cd60-d1de-489f-8c2b-d07d08c315f7",
   "metadata": {},
   "outputs": [
    {
     "data": {
      "text/plain": [
       "array([[ 8,  5],\n",
       "       [20, 13]])"
      ]
     },
     "execution_count": 103,
     "metadata": {},
     "output_type": "execute_result"
    }
   ],
   "source": [
    "multiplication_matricielle(M, N)"
   ]
  },
  {
   "cell_type": "code",
   "execution_count": null,
   "id": "b1d0a311-caf7-4920-848f-a7087031aebc",
   "metadata": {},
   "outputs": [],
   "source": []
  },
  {
   "cell_type": "code",
   "execution_count": null,
   "id": "b0a20c63-bf4a-47d8-b416-04938ce1a695",
   "metadata": {},
   "outputs": [],
   "source": []
  }
 ],
 "metadata": {
  "kernelspec": {
   "display_name": "Python 3 (ipykernel)",
   "language": "python",
   "name": "python3"
  },
  "language_info": {
   "codemirror_mode": {
    "name": "ipython",
    "version": 3
   },
   "file_extension": ".py",
   "mimetype": "text/x-python",
   "name": "python",
   "nbconvert_exporter": "python",
   "pygments_lexer": "ipython3",
   "version": "3.12.3"
  }
 },
 "nbformat": 4,
 "nbformat_minor": 5
}
