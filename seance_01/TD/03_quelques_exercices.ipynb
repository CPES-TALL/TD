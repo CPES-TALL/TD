{
 "cells": [
  {
   "cell_type": "markdown",
   "id": "6118f794-eead-4943-bed2-a7058033f0f1",
   "metadata": {},
   "source": [
    "# Exercices \n",
    "\n",
    "**Reminder**\n",
    "\n",
    "* Chacune de vos fonctions doit être testée. \n",
    "\n",
    "* Chaque cellule doit compiler. \n",
    "\n",
    "* Si le résultat n'est pas celui voulu, expliquer ce qui semble ne pas aller dans votre fonction en commentaires. \n",
    "\n",
    "### Ecrire une fonction qui prend une liste de mots et retourne le plus long. Gérer le cas où la liste ne contient pas que des strings."
   ]
  },
  {
   "cell_type": "code",
   "execution_count": 3,
   "id": "4cd51b06-e59b-4b44-88dd-e8bfa43e377e",
   "metadata": {},
   "outputs": [],
   "source": [
    "liste = ['liste', 'de', 'mots', 'longs', 'et', 'moinslongue', 10, 16]"
   ]
  },
  {
   "cell_type": "code",
   "execution_count": 6,
   "id": "4abb7f59-3dd9-4b5f-ab60-e955ac50520e",
   "metadata": {},
   "outputs": [
    {
     "data": {
      "text/plain": [
       "'moinslongue'"
      ]
     },
     "execution_count": 6,
     "metadata": {},
     "output_type": "execute_result"
    }
   ],
   "source": [
    "plus_long(liste)"
   ]
  },
  {
   "cell_type": "markdown",
   "id": "42d18c3d-c7d7-41f2-99ed-4f6295ddc80f",
   "metadata": {},
   "source": [
    "### 2. Ecrire une fonction qui ajoute une string au milieu d'une autre string.\n"
   ]
  },
  {
   "cell_type": "code",
   "execution_count": null,
   "id": "3ec2fef0-4508-40e2-9bbc-e26a149affb5",
   "metadata": {},
   "outputs": [],
   "source": [
    "def ajouter_au_milieu(mot, ajout):\n"
   ]
  },
  {
   "cell_type": "code",
   "execution_count": 4,
   "id": "5690e60f-8b37-441b-9108-03e9528a8f1d",
   "metadata": {},
   "outputs": [
    {
     "name": "stdout",
     "output_type": "stream",
     "text": [
      "11\n",
      "5\n"
     ]
    },
    {
     "data": {
      "text/plain": [
       "'moins longue'"
      ]
     },
     "execution_count": 4,
     "metadata": {},
     "output_type": "execute_result"
    }
   ],
   "source": [
    "ajouter_au_milieu('moinslongue', ' ')"
   ]
  },
  {
   "cell_type": "markdown",
   "id": "aa29d27b-4a87-4d89-b959-8eded4180b83",
   "metadata": {},
   "source": [
    "### 3. Ecrire une fonction qui transforme en majuscule la première et la dernière lettre de toutes les string d'une liste.\n"
   ]
  },
  {
   "cell_type": "code",
   "execution_count": 24,
   "id": "d1a7005b-6681-48d8-9bc9-bb53929a5c96",
   "metadata": {},
   "outputs": [],
   "source": [
    "def majuscules_premiere_derniere(liste_mot):\n",
    "    "
   ]
  },
  {
   "cell_type": "code",
   "execution_count": 25,
   "id": "efde91c0-11f9-43be-914b-848c928646a3",
   "metadata": {},
   "outputs": [
    {
     "name": "stdout",
     "output_type": "stream",
     "text": [
      "['ExemplE', 'PythoN', 'ProgrammatioN']\n"
     ]
    }
   ],
   "source": [
    "# Test\n",
    "liste_mots = [\"exemple\", \"python\", \"programmation\"]\n",
    "resultat = majuscules_premiere_derniere(liste_mots)\n",
    "print(resultat)"
   ]
  },
  {
   "cell_type": "markdown",
   "id": "99ffe52b-76a1-47f3-8e47-87784007083f",
   "metadata": {},
   "source": [
    "### 4. Ecrire une fonction qui trouve les 3 plus hautes valeurs d'un dictionnaire.\n"
   ]
  },
  {
   "cell_type": "code",
   "execution_count": 36,
   "id": "49028e69-3a0a-4aae-a2bd-241239f2f3de",
   "metadata": {},
   "outputs": [],
   "source": [
    "def trois_plus_hautes_valeurs(dictionnaire):"
   ]
  },
  {
   "cell_type": "code",
   "execution_count": 37,
   "id": "9d23d262-d292-4cc9-829e-a25d00a74a7f",
   "metadata": {},
   "outputs": [
    {
     "name": "stdout",
     "output_type": "stream",
     "text": [
      "[15, 10, 8]\n"
     ]
    }
   ],
   "source": [
    "# Test\n",
    "mon_dictionnaire = {'a': 10, 'b': 5, 'c': 8, 'd': 15}\n",
    "resultat = trois_plus_hautes_valeurs(mon_dictionnaire)\n",
    "print(resultat)"
   ]
  },
  {
   "cell_type": "code",
   "execution_count": null,
   "id": "b1d0a311-caf7-4920-848f-a7087031aebc",
   "metadata": {},
   "outputs": [],
   "source": []
  },
  {
   "cell_type": "code",
   "execution_count": null,
   "id": "b0a20c63-bf4a-47d8-b416-04938ce1a695",
   "metadata": {},
   "outputs": [],
   "source": []
  }
 ],
 "metadata": {
  "kernelspec": {
   "display_name": "Python 3 (ipykernel)",
   "language": "python",
   "name": "python3"
  },
  "language_info": {
   "codemirror_mode": {
    "name": "ipython",
    "version": 3
   },
   "file_extension": ".py",
   "mimetype": "text/x-python",
   "name": "python",
   "nbconvert_exporter": "python",
   "pygments_lexer": "ipython3",
   "version": "3.12.3"
  }
 },
 "nbformat": 4,
 "nbformat_minor": 5
}
